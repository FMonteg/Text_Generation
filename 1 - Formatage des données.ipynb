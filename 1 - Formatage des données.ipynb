{
 "cells": [
  {
   "cell_type": "markdown",
   "id": "415da4f4",
   "metadata": {},
   "source": [
    "# 1 - Formatage des données\n",
    "\n",
    "Les ouvrages sont encodés en UTF-8 au format .txt. Ces textes bruts possèdent des informations très importantes placées en début de fichiers, portant sur le Projet Gutenberg (la source de nos données), les mentions légales mais aussi le formatage spécial du texte (texte en italique, ...)."
   ]
  },
  {
   "cell_type": "markdown",
   "id": "fa4691e5",
   "metadata": {},
   "source": [
    "## 1.1 - Bibliothèques Python\n",
    "\n",
    "Commençons par importer les biliothèques dont nous aurons besoin pour la suite du traitement. Re nous permettra de manipuler les expressions régulières."
   ]
  },
  {
   "cell_type": "code",
   "execution_count": 1,
   "id": "49f434c6",
   "metadata": {},
   "outputs": [],
   "source": [
    "import re"
   ]
  },
  {
   "cell_type": "markdown",
   "id": "678540ce",
   "metadata": {},
   "source": [
    "## 1.2 - Import du document\n",
    "\n",
    "Il nous faut lire le fichier texte et le stocker au format string."
   ]
  },
  {
   "cell_type": "code",
   "execution_count": 2,
   "id": "f73af500",
   "metadata": {},
   "outputs": [
    {
     "name": "stdout",
     "output_type": "stream",
     "text": [
      "Type de la variable : <class 'str'>\n",
      "Début du document : ﻿\n",
      "    The Project Gutenberg eBook of Le tour du monde en quatre-vingts jours\n",
      "    \n",
      "This ebook is for the use of anyone anywhere in the United States and \n",
      "most other parts of the world at no cost and with almost no restrictions \n",
      "whatsoever. You may copy it, give it away or re-use it under the terms \n",
      "of the Project Gutenberg License included with this ebook or online \n",
      "at www.gutenberg.org. If you are not located in the United States, \n",
      "you will have to check the laws of the country where you are loc\n",
      "Fin du document : copyright in\n",
      "the U.S. unless a copyright notice is included. Thus, we do not\n",
      "necessarily keep eBooks in compliance with any particular paper\n",
      "edition.\n",
      "\n",
      "\n",
      "Most people start at our website which has the main PG search\n",
      "facility: www.gutenberg.org.\n",
      "\n",
      "\n",
      "This website includes information about Project Gutenberg™,\n",
      "including how to make donations to the Project Gutenberg Literary\n",
      "Archive Foundation, how to help produce our new eBooks, and how to\n",
      "subscribe to our email newsletter to hear about new eBooks.\n",
      "\n",
      "\n",
      "\n"
     ]
    }
   ],
   "source": [
    "f = open('raw_data/test.txt', 'r', encoding='utf-8')\n",
    "texte = f.read()\n",
    "f.close()\n",
    "\n",
    "print(\"Type de la variable :\", type(texte))\n",
    "print(\"Début du document :\", texte[:500])\n",
    "print(\"Fin du document :\", texte[-500:])"
   ]
  },
  {
   "cell_type": "markdown",
   "id": "1c205245",
   "metadata": {},
   "source": [
    "## 1.3 - Retrait de l'en-tête et de la fin de document\n",
    "\n",
    "Le livre en lui-même ne commence qu'après une ligne formée de chevrons alternés <><><>. Nous allons donc tronquer le document de tout ce qui précède cette partie.\n",
    "\n",
    "De la même manière, la fin du livre est suivie d'une ligne de chevrons <><><> puis de données d'encodage permettant de formater ce document à l'aide d'autres normes et langages; nous tronquerons également cette partie.\n",
    "\n",
    "Attention cependant : une première ligne de chevrons apparaît dans les métadonnées initiales (pour nous indiquer leur signification). Il ne faudra pas en tenir compte."
   ]
  },
  {
   "cell_type": "code",
   "execution_count": 3,
   "id": "49eef867",
   "metadata": {},
   "outputs": [],
   "source": [
    "def troncature(text):\n",
    "    temp = text\n",
    "    \n",
    "    #On cherche la première ligne, et on la supprime avec ce qui la précède\n",
    "    X = re.search(\"\\s(<>)+\\s\", temp)\n",
    "    temp = temp[X.span()[1]:]\n",
    "    \n",
    "    #On cherche la deuxième ligne, juste avant le début du livre\n",
    "    X = re.search(\"\\s(<>)+\\s\", temp)\n",
    "    temp = temp[X.span()[1]:]\n",
    "    \n",
    "    #On cherche la troisième ligne, juste après la fin du livre\n",
    "    X = re.search(\"\\s(<>)+\\s\", temp)\n",
    "    temp = temp[:X.span()[0]]\n",
    "    return temp"
   ]
  },
  {
   "cell_type": "code",
   "execution_count": 4,
   "id": "11194438",
   "metadata": {},
   "outputs": [
    {
     "name": "stdout",
     "output_type": "stream",
     "text": [
      "Début du document : \n",
      "                           LE TOUR DU MONDE\n",
      "                                  EN\n",
      "                         QUATRE-VINGTS JOURS\n",
      "                =====================================\n",
      "\n",
      "             \n",
      "Fin du document : \n",
      "\n",
      "XXXVI. Dans lequel Phileas Fogg fait de nouveau\n",
      "   prime sur le marché\n",
      "\n",
      "XXXVII. Dans lequel il est prouvé que Phileas Fogg\n",
      "   n'a rien gagné à faire ce tour du monde, si ce\n",
      "   n'est le bonheur\n",
      "\n"
     ]
    }
   ],
   "source": [
    "livre = troncature(texte)\n",
    "\n",
    "#Vérification\n",
    "print(\"Début du document :\", livre[:195])\n",
    "print(\"Fin du document :\", livre[-195:])"
   ]
  },
  {
   "cell_type": "markdown",
   "id": "0d3a8ca2",
   "metadata": {},
   "source": [
    "## 1.4 - Mise en page des chapitres\n",
    "\n",
    "FLAG"
   ]
  },
  {
   "cell_type": "code",
   "execution_count": null,
   "id": "2aea0b57",
   "metadata": {},
   "outputs": [],
   "source": []
  },
  {
   "cell_type": "markdown",
   "id": "ead71af7",
   "metadata": {},
   "source": [
    "## 1.5 - Formatages spéciaux\n",
    "\n",
    "FLAG"
   ]
  },
  {
   "cell_type": "code",
   "execution_count": null,
   "id": "4483790b",
   "metadata": {},
   "outputs": [],
   "source": []
  },
  {
   "cell_type": "markdown",
   "id": "0593f856",
   "metadata": {},
   "source": [
    "## 1.6 - Export du document\n",
    "\n",
    "FLAG"
   ]
  },
  {
   "cell_type": "code",
   "execution_count": null,
   "id": "825d7c07",
   "metadata": {},
   "outputs": [],
   "source": []
  }
 ],
 "metadata": {
  "kernelspec": {
   "display_name": "Python 3 (ipykernel)",
   "language": "python",
   "name": "python3"
  },
  "language_info": {
   "codemirror_mode": {
    "name": "ipython",
    "version": 3
   },
   "file_extension": ".py",
   "mimetype": "text/x-python",
   "name": "python",
   "nbconvert_exporter": "python",
   "pygments_lexer": "ipython3",
   "version": "3.9.12"
  }
 },
 "nbformat": 4,
 "nbformat_minor": 5
}
